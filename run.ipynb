{
 "cells": [
  {
   "cell_type": "markdown",
   "source": [
    "# How to use this notebook\n",
    "\n",
    "1. install requirements with ```pip install -r requirements.txt```\n",
    "2. start mlflow server ```mlflow server --port=5000```\n",
    "3. run through this notebook"
   ],
   "metadata": {
    "collapsed": false
   }
  },
  {
   "cell_type": "code",
   "execution_count": 1,
   "metadata": {
    "collapsed": true
   },
   "outputs": [],
   "source": [
    "import pandas as pd"
   ]
  },
  {
   "cell_type": "markdown",
   "source": [
    "# Dataset Prep\n",
    "\n",
    "The goal is to merge calendar, price and sales data into one frame which will be used by the model afterwards. Static predictors that are only dependent on the id are extracted separately"
   ],
   "metadata": {
    "collapsed": false
   }
  },
  {
   "cell_type": "markdown",
   "source": [
    "## Calendar\n",
    "\n",
    "For the calendar data, the weekdays are ordinally encoded while all of the events and types are one hot encoded"
   ],
   "metadata": {
    "collapsed": false
   }
  },
  {
   "cell_type": "code",
   "execution_count": 4,
   "outputs": [
    {
     "data": {
      "text/plain": "            date  wm_yr_wk    weekday  wday  month  year       d  \\\n0     2011-01-29     11101   Saturday     1      1  2011     d_1   \n1     2011-01-30     11101     Sunday     2      1  2011     d_2   \n2     2011-01-31     11101     Monday     3      1  2011     d_3   \n3     2011-02-01     11101    Tuesday     4      2  2011     d_4   \n4     2011-02-02     11101  Wednesday     5      2  2011     d_5   \n...          ...       ...        ...   ...    ...   ...     ...   \n1964  2016-06-15     11620  Wednesday     5      6  2016  d_1965   \n1965  2016-06-16     11620   Thursday     6      6  2016  d_1966   \n1966  2016-06-17     11620     Friday     7      6  2016  d_1967   \n1967  2016-06-18     11621   Saturday     1      6  2016  d_1968   \n1968  2016-06-19     11621     Sunday     2      6  2016  d_1969   \n\n      event_name_1 event_type_1  event_name_2 event_type_2  snap_CA  snap_TX  \\\n0              NaN          NaN           NaN          NaN        0        0   \n1              NaN          NaN           NaN          NaN        0        0   \n2              NaN          NaN           NaN          NaN        0        0   \n3              NaN          NaN           NaN          NaN        1        1   \n4              NaN          NaN           NaN          NaN        1        0   \n...            ...          ...           ...          ...      ...      ...   \n1964           NaN          NaN           NaN          NaN        0        1   \n1965           NaN          NaN           NaN          NaN        0        0   \n1966           NaN          NaN           NaN          NaN        0        0   \n1967           NaN          NaN           NaN          NaN        0        0   \n1968  NBAFinalsEnd     Sporting  Father's day     Cultural        0        0   \n\n      snap_WI  \n0           0  \n1           0  \n2           0  \n3           0  \n4           1  \n...       ...  \n1964        1  \n1965        0  \n1966        0  \n1967        0  \n1968        0  \n\n[1969 rows x 14 columns]",
      "text/html": "<div>\n<style scoped>\n    .dataframe tbody tr th:only-of-type {\n        vertical-align: middle;\n    }\n\n    .dataframe tbody tr th {\n        vertical-align: top;\n    }\n\n    .dataframe thead th {\n        text-align: right;\n    }\n</style>\n<table border=\"1\" class=\"dataframe\">\n  <thead>\n    <tr style=\"text-align: right;\">\n      <th></th>\n      <th>date</th>\n      <th>wm_yr_wk</th>\n      <th>weekday</th>\n      <th>wday</th>\n      <th>month</th>\n      <th>year</th>\n      <th>d</th>\n      <th>event_name_1</th>\n      <th>event_type_1</th>\n      <th>event_name_2</th>\n      <th>event_type_2</th>\n      <th>snap_CA</th>\n      <th>snap_TX</th>\n      <th>snap_WI</th>\n    </tr>\n  </thead>\n  <tbody>\n    <tr>\n      <th>0</th>\n      <td>2011-01-29</td>\n      <td>11101</td>\n      <td>Saturday</td>\n      <td>1</td>\n      <td>1</td>\n      <td>2011</td>\n      <td>d_1</td>\n      <td>NaN</td>\n      <td>NaN</td>\n      <td>NaN</td>\n      <td>NaN</td>\n      <td>0</td>\n      <td>0</td>\n      <td>0</td>\n    </tr>\n    <tr>\n      <th>1</th>\n      <td>2011-01-30</td>\n      <td>11101</td>\n      <td>Sunday</td>\n      <td>2</td>\n      <td>1</td>\n      <td>2011</td>\n      <td>d_2</td>\n      <td>NaN</td>\n      <td>NaN</td>\n      <td>NaN</td>\n      <td>NaN</td>\n      <td>0</td>\n      <td>0</td>\n      <td>0</td>\n    </tr>\n    <tr>\n      <th>2</th>\n      <td>2011-01-31</td>\n      <td>11101</td>\n      <td>Monday</td>\n      <td>3</td>\n      <td>1</td>\n      <td>2011</td>\n      <td>d_3</td>\n      <td>NaN</td>\n      <td>NaN</td>\n      <td>NaN</td>\n      <td>NaN</td>\n      <td>0</td>\n      <td>0</td>\n      <td>0</td>\n    </tr>\n    <tr>\n      <th>3</th>\n      <td>2011-02-01</td>\n      <td>11101</td>\n      <td>Tuesday</td>\n      <td>4</td>\n      <td>2</td>\n      <td>2011</td>\n      <td>d_4</td>\n      <td>NaN</td>\n      <td>NaN</td>\n      <td>NaN</td>\n      <td>NaN</td>\n      <td>1</td>\n      <td>1</td>\n      <td>0</td>\n    </tr>\n    <tr>\n      <th>4</th>\n      <td>2011-02-02</td>\n      <td>11101</td>\n      <td>Wednesday</td>\n      <td>5</td>\n      <td>2</td>\n      <td>2011</td>\n      <td>d_5</td>\n      <td>NaN</td>\n      <td>NaN</td>\n      <td>NaN</td>\n      <td>NaN</td>\n      <td>1</td>\n      <td>0</td>\n      <td>1</td>\n    </tr>\n    <tr>\n      <th>...</th>\n      <td>...</td>\n      <td>...</td>\n      <td>...</td>\n      <td>...</td>\n      <td>...</td>\n      <td>...</td>\n      <td>...</td>\n      <td>...</td>\n      <td>...</td>\n      <td>...</td>\n      <td>...</td>\n      <td>...</td>\n      <td>...</td>\n      <td>...</td>\n    </tr>\n    <tr>\n      <th>1964</th>\n      <td>2016-06-15</td>\n      <td>11620</td>\n      <td>Wednesday</td>\n      <td>5</td>\n      <td>6</td>\n      <td>2016</td>\n      <td>d_1965</td>\n      <td>NaN</td>\n      <td>NaN</td>\n      <td>NaN</td>\n      <td>NaN</td>\n      <td>0</td>\n      <td>1</td>\n      <td>1</td>\n    </tr>\n    <tr>\n      <th>1965</th>\n      <td>2016-06-16</td>\n      <td>11620</td>\n      <td>Thursday</td>\n      <td>6</td>\n      <td>6</td>\n      <td>2016</td>\n      <td>d_1966</td>\n      <td>NaN</td>\n      <td>NaN</td>\n      <td>NaN</td>\n      <td>NaN</td>\n      <td>0</td>\n      <td>0</td>\n      <td>0</td>\n    </tr>\n    <tr>\n      <th>1966</th>\n      <td>2016-06-17</td>\n      <td>11620</td>\n      <td>Friday</td>\n      <td>7</td>\n      <td>6</td>\n      <td>2016</td>\n      <td>d_1967</td>\n      <td>NaN</td>\n      <td>NaN</td>\n      <td>NaN</td>\n      <td>NaN</td>\n      <td>0</td>\n      <td>0</td>\n      <td>0</td>\n    </tr>\n    <tr>\n      <th>1967</th>\n      <td>2016-06-18</td>\n      <td>11621</td>\n      <td>Saturday</td>\n      <td>1</td>\n      <td>6</td>\n      <td>2016</td>\n      <td>d_1968</td>\n      <td>NaN</td>\n      <td>NaN</td>\n      <td>NaN</td>\n      <td>NaN</td>\n      <td>0</td>\n      <td>0</td>\n      <td>0</td>\n    </tr>\n    <tr>\n      <th>1968</th>\n      <td>2016-06-19</td>\n      <td>11621</td>\n      <td>Sunday</td>\n      <td>2</td>\n      <td>6</td>\n      <td>2016</td>\n      <td>d_1969</td>\n      <td>NBAFinalsEnd</td>\n      <td>Sporting</td>\n      <td>Father's day</td>\n      <td>Cultural</td>\n      <td>0</td>\n      <td>0</td>\n      <td>0</td>\n    </tr>\n  </tbody>\n</table>\n<p>1969 rows × 14 columns</p>\n</div>"
     },
     "execution_count": 4,
     "metadata": {},
     "output_type": "execute_result"
    }
   ],
   "source": [
    "calendar = pd.read_csv(\"./data/unprocessed/calendar.csv\")\n",
    "calendar"
   ],
   "metadata": {
    "collapsed": false
   }
  },
  {
   "cell_type": "code",
   "execution_count": 5,
   "outputs": [],
   "source": [
    "calendar['weekday'] = calendar.weekday.apply(lambda x: ['Monday', 'Tuesday', 'Wednesday', 'Thursday', 'Friday', 'Saturday', 'Sunday'].index(x))"
   ],
   "metadata": {
    "collapsed": false
   }
  },
  {
   "cell_type": "code",
   "execution_count": 6,
   "outputs": [],
   "source": [
    "event1 = pd.get_dummies(calendar.event_name_1)\n",
    "event2 = pd.get_dummies(calendar.event_name_2)\n",
    "# merge overlapping columns by summing up\n",
    "event1[\"Cinco De Mayo\"] = event2[\"Cinco De Mayo\"] + event1[\"Cinco De Mayo\"]\n",
    "event1[\"Easter\"] = event2[\"Easter\"] + event1[\"Easter\"]\n",
    "event1[\"Father's day\"] = event2[\"Father's day\"] + event1[\"Father's day\"]\n",
    "event1[\"OrthodoxEaster\"] = event2[\"OrthodoxEaster\"] + event1[\"OrthodoxEaster\"]\n",
    "\n",
    "type1 = pd.get_dummies(calendar.event_type_1)\n",
    "type2 = pd.get_dummies(calendar.event_type_2)\n",
    "# merge overlapping columns by summing up\n",
    "type1['Cultural'] = type2.Cultural + type1.Cultural\n",
    "type1['Religious'] = type2.Religious + type1.Religious"
   ],
   "metadata": {
    "collapsed": false
   }
  },
  {
   "cell_type": "code",
   "execution_count": 7,
   "outputs": [
    {
     "data": {
      "text/plain": "            date  wm_yr_wk  weekday  wday  month  year       d  snap_CA  \\\n0     2011-01-29     11101        5     1      1  2011     d_1        0   \n1     2011-01-30     11101        6     2      1  2011     d_2        0   \n2     2011-01-31     11101        0     3      1  2011     d_3        0   \n3     2011-02-01     11101        1     4      2  2011     d_4        1   \n4     2011-02-02     11101        2     5      2  2011     d_5        1   \n...          ...       ...      ...   ...    ...   ...     ...      ...   \n1964  2016-06-15     11620        2     5      6  2016  d_1965        0   \n1965  2016-06-16     11620        3     6      6  2016  d_1966        0   \n1966  2016-06-17     11620        4     7      6  2016  d_1967        0   \n1967  2016-06-18     11621        5     1      6  2016  d_1968        0   \n1968  2016-06-19     11621        6     2      6  2016  d_1969        0   \n\n      snap_TX  snap_WI  ...  Ramadan starts  StPatricksDay  SuperBowl  \\\n0           0        0  ...           False          False      False   \n1           0        0  ...           False          False      False   \n2           0        0  ...           False          False      False   \n3           1        0  ...           False          False      False   \n4           0        1  ...           False          False      False   \n...       ...      ...  ...             ...            ...        ...   \n1964        1        1  ...           False          False      False   \n1965        0        0  ...           False          False      False   \n1966        0        0  ...           False          False      False   \n1967        0        0  ...           False          False      False   \n1968        0        0  ...           False          False      False   \n\n      Thanksgiving  ValentinesDay  VeteransDay  Cultural  National  Religious  \\\n0            False          False        False     False     False      False   \n1            False          False        False     False     False      False   \n2            False          False        False     False     False      False   \n3            False          False        False     False     False      False   \n4            False          False        False     False     False      False   \n...            ...            ...          ...       ...       ...        ...   \n1964         False          False        False     False     False      False   \n1965         False          False        False     False     False      False   \n1966         False          False        False     False     False      False   \n1967         False          False        False     False     False      False   \n1968         False          False        False      True     False      False   \n\n      Sporting  \n0        False  \n1        False  \n2        False  \n3        False  \n4        False  \n...        ...  \n1964     False  \n1965     False  \n1966     False  \n1967     False  \n1968      True  \n\n[1969 rows x 44 columns]",
      "text/html": "<div>\n<style scoped>\n    .dataframe tbody tr th:only-of-type {\n        vertical-align: middle;\n    }\n\n    .dataframe tbody tr th {\n        vertical-align: top;\n    }\n\n    .dataframe thead th {\n        text-align: right;\n    }\n</style>\n<table border=\"1\" class=\"dataframe\">\n  <thead>\n    <tr style=\"text-align: right;\">\n      <th></th>\n      <th>date</th>\n      <th>wm_yr_wk</th>\n      <th>weekday</th>\n      <th>wday</th>\n      <th>month</th>\n      <th>year</th>\n      <th>d</th>\n      <th>snap_CA</th>\n      <th>snap_TX</th>\n      <th>snap_WI</th>\n      <th>...</th>\n      <th>Ramadan starts</th>\n      <th>StPatricksDay</th>\n      <th>SuperBowl</th>\n      <th>Thanksgiving</th>\n      <th>ValentinesDay</th>\n      <th>VeteransDay</th>\n      <th>Cultural</th>\n      <th>National</th>\n      <th>Religious</th>\n      <th>Sporting</th>\n    </tr>\n  </thead>\n  <tbody>\n    <tr>\n      <th>0</th>\n      <td>2011-01-29</td>\n      <td>11101</td>\n      <td>5</td>\n      <td>1</td>\n      <td>1</td>\n      <td>2011</td>\n      <td>d_1</td>\n      <td>0</td>\n      <td>0</td>\n      <td>0</td>\n      <td>...</td>\n      <td>False</td>\n      <td>False</td>\n      <td>False</td>\n      <td>False</td>\n      <td>False</td>\n      <td>False</td>\n      <td>False</td>\n      <td>False</td>\n      <td>False</td>\n      <td>False</td>\n    </tr>\n    <tr>\n      <th>1</th>\n      <td>2011-01-30</td>\n      <td>11101</td>\n      <td>6</td>\n      <td>2</td>\n      <td>1</td>\n      <td>2011</td>\n      <td>d_2</td>\n      <td>0</td>\n      <td>0</td>\n      <td>0</td>\n      <td>...</td>\n      <td>False</td>\n      <td>False</td>\n      <td>False</td>\n      <td>False</td>\n      <td>False</td>\n      <td>False</td>\n      <td>False</td>\n      <td>False</td>\n      <td>False</td>\n      <td>False</td>\n    </tr>\n    <tr>\n      <th>2</th>\n      <td>2011-01-31</td>\n      <td>11101</td>\n      <td>0</td>\n      <td>3</td>\n      <td>1</td>\n      <td>2011</td>\n      <td>d_3</td>\n      <td>0</td>\n      <td>0</td>\n      <td>0</td>\n      <td>...</td>\n      <td>False</td>\n      <td>False</td>\n      <td>False</td>\n      <td>False</td>\n      <td>False</td>\n      <td>False</td>\n      <td>False</td>\n      <td>False</td>\n      <td>False</td>\n      <td>False</td>\n    </tr>\n    <tr>\n      <th>3</th>\n      <td>2011-02-01</td>\n      <td>11101</td>\n      <td>1</td>\n      <td>4</td>\n      <td>2</td>\n      <td>2011</td>\n      <td>d_4</td>\n      <td>1</td>\n      <td>1</td>\n      <td>0</td>\n      <td>...</td>\n      <td>False</td>\n      <td>False</td>\n      <td>False</td>\n      <td>False</td>\n      <td>False</td>\n      <td>False</td>\n      <td>False</td>\n      <td>False</td>\n      <td>False</td>\n      <td>False</td>\n    </tr>\n    <tr>\n      <th>4</th>\n      <td>2011-02-02</td>\n      <td>11101</td>\n      <td>2</td>\n      <td>5</td>\n      <td>2</td>\n      <td>2011</td>\n      <td>d_5</td>\n      <td>1</td>\n      <td>0</td>\n      <td>1</td>\n      <td>...</td>\n      <td>False</td>\n      <td>False</td>\n      <td>False</td>\n      <td>False</td>\n      <td>False</td>\n      <td>False</td>\n      <td>False</td>\n      <td>False</td>\n      <td>False</td>\n      <td>False</td>\n    </tr>\n    <tr>\n      <th>...</th>\n      <td>...</td>\n      <td>...</td>\n      <td>...</td>\n      <td>...</td>\n      <td>...</td>\n      <td>...</td>\n      <td>...</td>\n      <td>...</td>\n      <td>...</td>\n      <td>...</td>\n      <td>...</td>\n      <td>...</td>\n      <td>...</td>\n      <td>...</td>\n      <td>...</td>\n      <td>...</td>\n      <td>...</td>\n      <td>...</td>\n      <td>...</td>\n      <td>...</td>\n      <td>...</td>\n    </tr>\n    <tr>\n      <th>1964</th>\n      <td>2016-06-15</td>\n      <td>11620</td>\n      <td>2</td>\n      <td>5</td>\n      <td>6</td>\n      <td>2016</td>\n      <td>d_1965</td>\n      <td>0</td>\n      <td>1</td>\n      <td>1</td>\n      <td>...</td>\n      <td>False</td>\n      <td>False</td>\n      <td>False</td>\n      <td>False</td>\n      <td>False</td>\n      <td>False</td>\n      <td>False</td>\n      <td>False</td>\n      <td>False</td>\n      <td>False</td>\n    </tr>\n    <tr>\n      <th>1965</th>\n      <td>2016-06-16</td>\n      <td>11620</td>\n      <td>3</td>\n      <td>6</td>\n      <td>6</td>\n      <td>2016</td>\n      <td>d_1966</td>\n      <td>0</td>\n      <td>0</td>\n      <td>0</td>\n      <td>...</td>\n      <td>False</td>\n      <td>False</td>\n      <td>False</td>\n      <td>False</td>\n      <td>False</td>\n      <td>False</td>\n      <td>False</td>\n      <td>False</td>\n      <td>False</td>\n      <td>False</td>\n    </tr>\n    <tr>\n      <th>1966</th>\n      <td>2016-06-17</td>\n      <td>11620</td>\n      <td>4</td>\n      <td>7</td>\n      <td>6</td>\n      <td>2016</td>\n      <td>d_1967</td>\n      <td>0</td>\n      <td>0</td>\n      <td>0</td>\n      <td>...</td>\n      <td>False</td>\n      <td>False</td>\n      <td>False</td>\n      <td>False</td>\n      <td>False</td>\n      <td>False</td>\n      <td>False</td>\n      <td>False</td>\n      <td>False</td>\n      <td>False</td>\n    </tr>\n    <tr>\n      <th>1967</th>\n      <td>2016-06-18</td>\n      <td>11621</td>\n      <td>5</td>\n      <td>1</td>\n      <td>6</td>\n      <td>2016</td>\n      <td>d_1968</td>\n      <td>0</td>\n      <td>0</td>\n      <td>0</td>\n      <td>...</td>\n      <td>False</td>\n      <td>False</td>\n      <td>False</td>\n      <td>False</td>\n      <td>False</td>\n      <td>False</td>\n      <td>False</td>\n      <td>False</td>\n      <td>False</td>\n      <td>False</td>\n    </tr>\n    <tr>\n      <th>1968</th>\n      <td>2016-06-19</td>\n      <td>11621</td>\n      <td>6</td>\n      <td>2</td>\n      <td>6</td>\n      <td>2016</td>\n      <td>d_1969</td>\n      <td>0</td>\n      <td>0</td>\n      <td>0</td>\n      <td>...</td>\n      <td>False</td>\n      <td>False</td>\n      <td>False</td>\n      <td>False</td>\n      <td>False</td>\n      <td>False</td>\n      <td>True</td>\n      <td>False</td>\n      <td>False</td>\n      <td>True</td>\n    </tr>\n  </tbody>\n</table>\n<p>1969 rows × 44 columns</p>\n</div>"
     },
     "execution_count": 7,
     "metadata": {},
     "output_type": "execute_result"
    }
   ],
   "source": [
    "calendar_fixed = pd.concat([calendar, event1, type1], axis=1).drop(['event_name_1', 'event_name_2', 'event_type_1', 'event_type_2'], axis=1)\n",
    "calendar_fixed"
   ],
   "metadata": {
    "collapsed": false
   }
  },
  {
   "cell_type": "markdown",
   "source": [
    "## Prices\n",
    "\n",
    "Prices are kept as they are. One column is added indicating if there was a price change in the respective week"
   ],
   "metadata": {
    "collapsed": false
   }
  },
  {
   "cell_type": "code",
   "execution_count": 8,
   "outputs": [
    {
     "data": {
      "text/plain": "        store_id        item_id  wm_yr_wk  sell_price  price_change\n0           CA_1  HOBBIES_1_001     11325        9.58             0\n1           CA_1  HOBBIES_1_001     11326        9.58             0\n2           CA_1  HOBBIES_1_001     11327        8.26             1\n3           CA_1  HOBBIES_1_001     11328        8.26             0\n4           CA_1  HOBBIES_1_001     11329        8.26             0\n...          ...            ...       ...         ...           ...\n6841116     WI_3    FOODS_3_827     11617        1.00             0\n6841117     WI_3    FOODS_3_827     11618        1.00             0\n6841118     WI_3    FOODS_3_827     11619        1.00             0\n6841119     WI_3    FOODS_3_827     11620        1.00             0\n6841120     WI_3    FOODS_3_827     11621        1.00             0\n\n[6841121 rows x 5 columns]",
      "text/html": "<div>\n<style scoped>\n    .dataframe tbody tr th:only-of-type {\n        vertical-align: middle;\n    }\n\n    .dataframe tbody tr th {\n        vertical-align: top;\n    }\n\n    .dataframe thead th {\n        text-align: right;\n    }\n</style>\n<table border=\"1\" class=\"dataframe\">\n  <thead>\n    <tr style=\"text-align: right;\">\n      <th></th>\n      <th>store_id</th>\n      <th>item_id</th>\n      <th>wm_yr_wk</th>\n      <th>sell_price</th>\n      <th>price_change</th>\n    </tr>\n  </thead>\n  <tbody>\n    <tr>\n      <th>0</th>\n      <td>CA_1</td>\n      <td>HOBBIES_1_001</td>\n      <td>11325</td>\n      <td>9.58</td>\n      <td>0</td>\n    </tr>\n    <tr>\n      <th>1</th>\n      <td>CA_1</td>\n      <td>HOBBIES_1_001</td>\n      <td>11326</td>\n      <td>9.58</td>\n      <td>0</td>\n    </tr>\n    <tr>\n      <th>2</th>\n      <td>CA_1</td>\n      <td>HOBBIES_1_001</td>\n      <td>11327</td>\n      <td>8.26</td>\n      <td>1</td>\n    </tr>\n    <tr>\n      <th>3</th>\n      <td>CA_1</td>\n      <td>HOBBIES_1_001</td>\n      <td>11328</td>\n      <td>8.26</td>\n      <td>0</td>\n    </tr>\n    <tr>\n      <th>4</th>\n      <td>CA_1</td>\n      <td>HOBBIES_1_001</td>\n      <td>11329</td>\n      <td>8.26</td>\n      <td>0</td>\n    </tr>\n    <tr>\n      <th>...</th>\n      <td>...</td>\n      <td>...</td>\n      <td>...</td>\n      <td>...</td>\n      <td>...</td>\n    </tr>\n    <tr>\n      <th>6841116</th>\n      <td>WI_3</td>\n      <td>FOODS_3_827</td>\n      <td>11617</td>\n      <td>1.00</td>\n      <td>0</td>\n    </tr>\n    <tr>\n      <th>6841117</th>\n      <td>WI_3</td>\n      <td>FOODS_3_827</td>\n      <td>11618</td>\n      <td>1.00</td>\n      <td>0</td>\n    </tr>\n    <tr>\n      <th>6841118</th>\n      <td>WI_3</td>\n      <td>FOODS_3_827</td>\n      <td>11619</td>\n      <td>1.00</td>\n      <td>0</td>\n    </tr>\n    <tr>\n      <th>6841119</th>\n      <td>WI_3</td>\n      <td>FOODS_3_827</td>\n      <td>11620</td>\n      <td>1.00</td>\n      <td>0</td>\n    </tr>\n    <tr>\n      <th>6841120</th>\n      <td>WI_3</td>\n      <td>FOODS_3_827</td>\n      <td>11621</td>\n      <td>1.00</td>\n      <td>0</td>\n    </tr>\n  </tbody>\n</table>\n<p>6841121 rows × 5 columns</p>\n</div>"
     },
     "execution_count": 8,
     "metadata": {},
     "output_type": "execute_result"
    }
   ],
   "source": [
    "prices = pd.read_csv(\"./data/unprocessed/sell_prices.csv\")\n",
    "prices['price_change'] = prices.groupby(['item_id']).sell_price.diff().apply(lambda x: 0 if x == 0 or pd.isna(x) else 1)\n",
    "prices"
   ],
   "metadata": {
    "collapsed": false
   }
  },
  {
   "cell_type": "markdown",
   "source": [
    "## Sales\n",
    "\n",
    "Static predictors are extracted and sales data is merged with the other two frames"
   ],
   "metadata": {
    "collapsed": false
   }
  },
  {
   "cell_type": "code",
   "execution_count": 10,
   "outputs": [],
   "source": [
    "sales = pd.read_csv(\"./data/unprocessed/sales_train_evaluation.csv\")\n",
    "static_vars = sales[['id', 'item_id', 'dept_id', 'cat_id', 'store_id', 'state_id']]"
   ],
   "metadata": {
    "collapsed": false
   }
  },
  {
   "cell_type": "code",
   "execution_count": 11,
   "outputs": [
    {
     "data": {
      "text/plain": "                                     id        item_id    dept_id   cat_id  \\\n0         HOBBIES_1_001_CA_1_evaluation  HOBBIES_1_001  HOBBIES_1  HOBBIES   \n1         HOBBIES_1_002_CA_1_evaluation  HOBBIES_1_002  HOBBIES_1  HOBBIES   \n2         HOBBIES_1_003_CA_1_evaluation  HOBBIES_1_003  HOBBIES_1  HOBBIES   \n3         HOBBIES_1_004_CA_1_evaluation  HOBBIES_1_004  HOBBIES_1  HOBBIES   \n4         HOBBIES_1_005_CA_1_evaluation  HOBBIES_1_005  HOBBIES_1  HOBBIES   \n...                                 ...            ...        ...      ...   \n59181085    FOODS_3_823_WI_3_evaluation    FOODS_3_823    FOODS_3    FOODS   \n59181086    FOODS_3_824_WI_3_evaluation    FOODS_3_824    FOODS_3    FOODS   \n59181087    FOODS_3_825_WI_3_evaluation    FOODS_3_825    FOODS_3    FOODS   \n59181088    FOODS_3_826_WI_3_evaluation    FOODS_3_826    FOODS_3    FOODS   \n59181089    FOODS_3_827_WI_3_evaluation    FOODS_3_827    FOODS_3    FOODS   \n\n         store_id state_id     day  sales  \n0            CA_1       CA     d_1      0  \n1            CA_1       CA     d_1      0  \n2            CA_1       CA     d_1      0  \n3            CA_1       CA     d_1      0  \n4            CA_1       CA     d_1      0  \n...           ...      ...     ...    ...  \n59181085     WI_3       WI  d_1941      1  \n59181086     WI_3       WI  d_1941      0  \n59181087     WI_3       WI  d_1941      2  \n59181088     WI_3       WI  d_1941      0  \n59181089     WI_3       WI  d_1941      1  \n\n[59181090 rows x 8 columns]",
      "text/html": "<div>\n<style scoped>\n    .dataframe tbody tr th:only-of-type {\n        vertical-align: middle;\n    }\n\n    .dataframe tbody tr th {\n        vertical-align: top;\n    }\n\n    .dataframe thead th {\n        text-align: right;\n    }\n</style>\n<table border=\"1\" class=\"dataframe\">\n  <thead>\n    <tr style=\"text-align: right;\">\n      <th></th>\n      <th>id</th>\n      <th>item_id</th>\n      <th>dept_id</th>\n      <th>cat_id</th>\n      <th>store_id</th>\n      <th>state_id</th>\n      <th>day</th>\n      <th>sales</th>\n    </tr>\n  </thead>\n  <tbody>\n    <tr>\n      <th>0</th>\n      <td>HOBBIES_1_001_CA_1_evaluation</td>\n      <td>HOBBIES_1_001</td>\n      <td>HOBBIES_1</td>\n      <td>HOBBIES</td>\n      <td>CA_1</td>\n      <td>CA</td>\n      <td>d_1</td>\n      <td>0</td>\n    </tr>\n    <tr>\n      <th>1</th>\n      <td>HOBBIES_1_002_CA_1_evaluation</td>\n      <td>HOBBIES_1_002</td>\n      <td>HOBBIES_1</td>\n      <td>HOBBIES</td>\n      <td>CA_1</td>\n      <td>CA</td>\n      <td>d_1</td>\n      <td>0</td>\n    </tr>\n    <tr>\n      <th>2</th>\n      <td>HOBBIES_1_003_CA_1_evaluation</td>\n      <td>HOBBIES_1_003</td>\n      <td>HOBBIES_1</td>\n      <td>HOBBIES</td>\n      <td>CA_1</td>\n      <td>CA</td>\n      <td>d_1</td>\n      <td>0</td>\n    </tr>\n    <tr>\n      <th>3</th>\n      <td>HOBBIES_1_004_CA_1_evaluation</td>\n      <td>HOBBIES_1_004</td>\n      <td>HOBBIES_1</td>\n      <td>HOBBIES</td>\n      <td>CA_1</td>\n      <td>CA</td>\n      <td>d_1</td>\n      <td>0</td>\n    </tr>\n    <tr>\n      <th>4</th>\n      <td>HOBBIES_1_005_CA_1_evaluation</td>\n      <td>HOBBIES_1_005</td>\n      <td>HOBBIES_1</td>\n      <td>HOBBIES</td>\n      <td>CA_1</td>\n      <td>CA</td>\n      <td>d_1</td>\n      <td>0</td>\n    </tr>\n    <tr>\n      <th>...</th>\n      <td>...</td>\n      <td>...</td>\n      <td>...</td>\n      <td>...</td>\n      <td>...</td>\n      <td>...</td>\n      <td>...</td>\n      <td>...</td>\n    </tr>\n    <tr>\n      <th>59181085</th>\n      <td>FOODS_3_823_WI_3_evaluation</td>\n      <td>FOODS_3_823</td>\n      <td>FOODS_3</td>\n      <td>FOODS</td>\n      <td>WI_3</td>\n      <td>WI</td>\n      <td>d_1941</td>\n      <td>1</td>\n    </tr>\n    <tr>\n      <th>59181086</th>\n      <td>FOODS_3_824_WI_3_evaluation</td>\n      <td>FOODS_3_824</td>\n      <td>FOODS_3</td>\n      <td>FOODS</td>\n      <td>WI_3</td>\n      <td>WI</td>\n      <td>d_1941</td>\n      <td>0</td>\n    </tr>\n    <tr>\n      <th>59181087</th>\n      <td>FOODS_3_825_WI_3_evaluation</td>\n      <td>FOODS_3_825</td>\n      <td>FOODS_3</td>\n      <td>FOODS</td>\n      <td>WI_3</td>\n      <td>WI</td>\n      <td>d_1941</td>\n      <td>2</td>\n    </tr>\n    <tr>\n      <th>59181088</th>\n      <td>FOODS_3_826_WI_3_evaluation</td>\n      <td>FOODS_3_826</td>\n      <td>FOODS_3</td>\n      <td>FOODS</td>\n      <td>WI_3</td>\n      <td>WI</td>\n      <td>d_1941</td>\n      <td>0</td>\n    </tr>\n    <tr>\n      <th>59181089</th>\n      <td>FOODS_3_827_WI_3_evaluation</td>\n      <td>FOODS_3_827</td>\n      <td>FOODS_3</td>\n      <td>FOODS</td>\n      <td>WI_3</td>\n      <td>WI</td>\n      <td>d_1941</td>\n      <td>1</td>\n    </tr>\n  </tbody>\n</table>\n<p>59181090 rows × 8 columns</p>\n</div>"
     },
     "execution_count": 11,
     "metadata": {},
     "output_type": "execute_result"
    }
   ],
   "source": [
    "sales = sales.melt(id_vars=['id', 'item_id', 'dept_id', 'cat_id', 'store_id', 'state_id'], var_name='day', value_name='sales')\n",
    "sales"
   ],
   "metadata": {
    "collapsed": false
   }
  },
  {
   "cell_type": "code",
   "execution_count": 12,
   "outputs": [
    {
     "data": {
      "text/plain": "                                     id        item_id    dept_id   cat_id  \\\n0         HOBBIES_1_001_CA_1_evaluation  HOBBIES_1_001  HOBBIES_1  HOBBIES   \n1         HOBBIES_1_002_CA_1_evaluation  HOBBIES_1_002  HOBBIES_1  HOBBIES   \n2         HOBBIES_1_003_CA_1_evaluation  HOBBIES_1_003  HOBBIES_1  HOBBIES   \n3         HOBBIES_1_004_CA_1_evaluation  HOBBIES_1_004  HOBBIES_1  HOBBIES   \n4         HOBBIES_1_005_CA_1_evaluation  HOBBIES_1_005  HOBBIES_1  HOBBIES   \n...                                 ...            ...        ...      ...   \n59181085    FOODS_3_823_WI_3_evaluation    FOODS_3_823    FOODS_3    FOODS   \n59181086    FOODS_3_824_WI_3_evaluation    FOODS_3_824    FOODS_3    FOODS   \n59181087    FOODS_3_825_WI_3_evaluation    FOODS_3_825    FOODS_3    FOODS   \n59181088    FOODS_3_826_WI_3_evaluation    FOODS_3_826    FOODS_3    FOODS   \n59181089    FOODS_3_827_WI_3_evaluation    FOODS_3_827    FOODS_3    FOODS   \n\n         store_id state_id     day  sales        date  wm_yr_wk  ...  \\\n0            CA_1       CA     d_1      0  2011-01-29     11101  ...   \n1            CA_1       CA     d_1      0  2011-01-29     11101  ...   \n2            CA_1       CA     d_1      0  2011-01-29     11101  ...   \n3            CA_1       CA     d_1      0  2011-01-29     11101  ...   \n4            CA_1       CA     d_1      0  2011-01-29     11101  ...   \n...           ...      ...     ...    ...         ...       ...  ...   \n59181085     WI_3       WI  d_1941      1  2016-05-22     11617  ...   \n59181086     WI_3       WI  d_1941      0  2016-05-22     11617  ...   \n59181087     WI_3       WI  d_1941      2  2016-05-22     11617  ...   \n59181088     WI_3       WI  d_1941      0  2016-05-22     11617  ...   \n59181089     WI_3       WI  d_1941      1  2016-05-22     11617  ...   \n\n          Ramadan starts  StPatricksDay  SuperBowl  Thanksgiving  \\\n0                  False          False      False         False   \n1                  False          False      False         False   \n2                  False          False      False         False   \n3                  False          False      False         False   \n4                  False          False      False         False   \n...                  ...            ...        ...           ...   \n59181085           False          False      False         False   \n59181086           False          False      False         False   \n59181087           False          False      False         False   \n59181088           False          False      False         False   \n59181089           False          False      False         False   \n\n          ValentinesDay  VeteransDay  Cultural  National  Religious  Sporting  \n0                 False        False     False     False      False     False  \n1                 False        False     False     False      False     False  \n2                 False        False     False     False      False     False  \n3                 False        False     False     False      False     False  \n4                 False        False     False     False      False     False  \n...                 ...          ...       ...       ...        ...       ...  \n59181085          False        False     False     False      False     False  \n59181086          False        False     False     False      False     False  \n59181087          False        False     False     False      False     False  \n59181088          False        False     False     False      False     False  \n59181089          False        False     False     False      False     False  \n\n[59181090 rows x 51 columns]",
      "text/html": "<div>\n<style scoped>\n    .dataframe tbody tr th:only-of-type {\n        vertical-align: middle;\n    }\n\n    .dataframe tbody tr th {\n        vertical-align: top;\n    }\n\n    .dataframe thead th {\n        text-align: right;\n    }\n</style>\n<table border=\"1\" class=\"dataframe\">\n  <thead>\n    <tr style=\"text-align: right;\">\n      <th></th>\n      <th>id</th>\n      <th>item_id</th>\n      <th>dept_id</th>\n      <th>cat_id</th>\n      <th>store_id</th>\n      <th>state_id</th>\n      <th>day</th>\n      <th>sales</th>\n      <th>date</th>\n      <th>wm_yr_wk</th>\n      <th>...</th>\n      <th>Ramadan starts</th>\n      <th>StPatricksDay</th>\n      <th>SuperBowl</th>\n      <th>Thanksgiving</th>\n      <th>ValentinesDay</th>\n      <th>VeteransDay</th>\n      <th>Cultural</th>\n      <th>National</th>\n      <th>Religious</th>\n      <th>Sporting</th>\n    </tr>\n  </thead>\n  <tbody>\n    <tr>\n      <th>0</th>\n      <td>HOBBIES_1_001_CA_1_evaluation</td>\n      <td>HOBBIES_1_001</td>\n      <td>HOBBIES_1</td>\n      <td>HOBBIES</td>\n      <td>CA_1</td>\n      <td>CA</td>\n      <td>d_1</td>\n      <td>0</td>\n      <td>2011-01-29</td>\n      <td>11101</td>\n      <td>...</td>\n      <td>False</td>\n      <td>False</td>\n      <td>False</td>\n      <td>False</td>\n      <td>False</td>\n      <td>False</td>\n      <td>False</td>\n      <td>False</td>\n      <td>False</td>\n      <td>False</td>\n    </tr>\n    <tr>\n      <th>1</th>\n      <td>HOBBIES_1_002_CA_1_evaluation</td>\n      <td>HOBBIES_1_002</td>\n      <td>HOBBIES_1</td>\n      <td>HOBBIES</td>\n      <td>CA_1</td>\n      <td>CA</td>\n      <td>d_1</td>\n      <td>0</td>\n      <td>2011-01-29</td>\n      <td>11101</td>\n      <td>...</td>\n      <td>False</td>\n      <td>False</td>\n      <td>False</td>\n      <td>False</td>\n      <td>False</td>\n      <td>False</td>\n      <td>False</td>\n      <td>False</td>\n      <td>False</td>\n      <td>False</td>\n    </tr>\n    <tr>\n      <th>2</th>\n      <td>HOBBIES_1_003_CA_1_evaluation</td>\n      <td>HOBBIES_1_003</td>\n      <td>HOBBIES_1</td>\n      <td>HOBBIES</td>\n      <td>CA_1</td>\n      <td>CA</td>\n      <td>d_1</td>\n      <td>0</td>\n      <td>2011-01-29</td>\n      <td>11101</td>\n      <td>...</td>\n      <td>False</td>\n      <td>False</td>\n      <td>False</td>\n      <td>False</td>\n      <td>False</td>\n      <td>False</td>\n      <td>False</td>\n      <td>False</td>\n      <td>False</td>\n      <td>False</td>\n    </tr>\n    <tr>\n      <th>3</th>\n      <td>HOBBIES_1_004_CA_1_evaluation</td>\n      <td>HOBBIES_1_004</td>\n      <td>HOBBIES_1</td>\n      <td>HOBBIES</td>\n      <td>CA_1</td>\n      <td>CA</td>\n      <td>d_1</td>\n      <td>0</td>\n      <td>2011-01-29</td>\n      <td>11101</td>\n      <td>...</td>\n      <td>False</td>\n      <td>False</td>\n      <td>False</td>\n      <td>False</td>\n      <td>False</td>\n      <td>False</td>\n      <td>False</td>\n      <td>False</td>\n      <td>False</td>\n      <td>False</td>\n    </tr>\n    <tr>\n      <th>4</th>\n      <td>HOBBIES_1_005_CA_1_evaluation</td>\n      <td>HOBBIES_1_005</td>\n      <td>HOBBIES_1</td>\n      <td>HOBBIES</td>\n      <td>CA_1</td>\n      <td>CA</td>\n      <td>d_1</td>\n      <td>0</td>\n      <td>2011-01-29</td>\n      <td>11101</td>\n      <td>...</td>\n      <td>False</td>\n      <td>False</td>\n      <td>False</td>\n      <td>False</td>\n      <td>False</td>\n      <td>False</td>\n      <td>False</td>\n      <td>False</td>\n      <td>False</td>\n      <td>False</td>\n    </tr>\n    <tr>\n      <th>...</th>\n      <td>...</td>\n      <td>...</td>\n      <td>...</td>\n      <td>...</td>\n      <td>...</td>\n      <td>...</td>\n      <td>...</td>\n      <td>...</td>\n      <td>...</td>\n      <td>...</td>\n      <td>...</td>\n      <td>...</td>\n      <td>...</td>\n      <td>...</td>\n      <td>...</td>\n      <td>...</td>\n      <td>...</td>\n      <td>...</td>\n      <td>...</td>\n      <td>...</td>\n      <td>...</td>\n    </tr>\n    <tr>\n      <th>59181085</th>\n      <td>FOODS_3_823_WI_3_evaluation</td>\n      <td>FOODS_3_823</td>\n      <td>FOODS_3</td>\n      <td>FOODS</td>\n      <td>WI_3</td>\n      <td>WI</td>\n      <td>d_1941</td>\n      <td>1</td>\n      <td>2016-05-22</td>\n      <td>11617</td>\n      <td>...</td>\n      <td>False</td>\n      <td>False</td>\n      <td>False</td>\n      <td>False</td>\n      <td>False</td>\n      <td>False</td>\n      <td>False</td>\n      <td>False</td>\n      <td>False</td>\n      <td>False</td>\n    </tr>\n    <tr>\n      <th>59181086</th>\n      <td>FOODS_3_824_WI_3_evaluation</td>\n      <td>FOODS_3_824</td>\n      <td>FOODS_3</td>\n      <td>FOODS</td>\n      <td>WI_3</td>\n      <td>WI</td>\n      <td>d_1941</td>\n      <td>0</td>\n      <td>2016-05-22</td>\n      <td>11617</td>\n      <td>...</td>\n      <td>False</td>\n      <td>False</td>\n      <td>False</td>\n      <td>False</td>\n      <td>False</td>\n      <td>False</td>\n      <td>False</td>\n      <td>False</td>\n      <td>False</td>\n      <td>False</td>\n    </tr>\n    <tr>\n      <th>59181087</th>\n      <td>FOODS_3_825_WI_3_evaluation</td>\n      <td>FOODS_3_825</td>\n      <td>FOODS_3</td>\n      <td>FOODS</td>\n      <td>WI_3</td>\n      <td>WI</td>\n      <td>d_1941</td>\n      <td>2</td>\n      <td>2016-05-22</td>\n      <td>11617</td>\n      <td>...</td>\n      <td>False</td>\n      <td>False</td>\n      <td>False</td>\n      <td>False</td>\n      <td>False</td>\n      <td>False</td>\n      <td>False</td>\n      <td>False</td>\n      <td>False</td>\n      <td>False</td>\n    </tr>\n    <tr>\n      <th>59181088</th>\n      <td>FOODS_3_826_WI_3_evaluation</td>\n      <td>FOODS_3_826</td>\n      <td>FOODS_3</td>\n      <td>FOODS</td>\n      <td>WI_3</td>\n      <td>WI</td>\n      <td>d_1941</td>\n      <td>0</td>\n      <td>2016-05-22</td>\n      <td>11617</td>\n      <td>...</td>\n      <td>False</td>\n      <td>False</td>\n      <td>False</td>\n      <td>False</td>\n      <td>False</td>\n      <td>False</td>\n      <td>False</td>\n      <td>False</td>\n      <td>False</td>\n      <td>False</td>\n    </tr>\n    <tr>\n      <th>59181089</th>\n      <td>FOODS_3_827_WI_3_evaluation</td>\n      <td>FOODS_3_827</td>\n      <td>FOODS_3</td>\n      <td>FOODS</td>\n      <td>WI_3</td>\n      <td>WI</td>\n      <td>d_1941</td>\n      <td>1</td>\n      <td>2016-05-22</td>\n      <td>11617</td>\n      <td>...</td>\n      <td>False</td>\n      <td>False</td>\n      <td>False</td>\n      <td>False</td>\n      <td>False</td>\n      <td>False</td>\n      <td>False</td>\n      <td>False</td>\n      <td>False</td>\n      <td>False</td>\n    </tr>\n  </tbody>\n</table>\n<p>59181090 rows × 51 columns</p>\n</div>"
     },
     "execution_count": 12,
     "metadata": {},
     "output_type": "execute_result"
    }
   ],
   "source": [
    "sales_cal = sales.merge(calendar_fixed, how='left', left_on='day', right_on='d').drop(['d'], axis=1)\n",
    "sales_cal"
   ],
   "metadata": {
    "collapsed": false
   }
  },
  {
   "cell_type": "markdown",
   "source": [
    "Static predictors are removed here as well as date and the week indicator since they don't offer any additional information"
   ],
   "metadata": {
    "collapsed": false
   }
  },
  {
   "cell_type": "code",
   "execution_count": 13,
   "outputs": [
    {
     "data": {
      "text/plain": "                                     id     day  sales  weekday  wday  month  \\\n0         HOBBIES_1_001_CA_1_evaluation     d_1      0        5     1      1   \n1         HOBBIES_1_002_CA_1_evaluation     d_1      0        5     1      1   \n2         HOBBIES_1_003_CA_1_evaluation     d_1      0        5     1      1   \n3         HOBBIES_1_004_CA_1_evaluation     d_1      0        5     1      1   \n4         HOBBIES_1_005_CA_1_evaluation     d_1      0        5     1      1   \n...                                 ...     ...    ...      ...   ...    ...   \n59181085    FOODS_3_823_WI_3_evaluation  d_1941      1        6     2      5   \n59181086    FOODS_3_824_WI_3_evaluation  d_1941      0        6     2      5   \n59181087    FOODS_3_825_WI_3_evaluation  d_1941      2        6     2      5   \n59181088    FOODS_3_826_WI_3_evaluation  d_1941      0        6     2      5   \n59181089    FOODS_3_827_WI_3_evaluation  d_1941      1        6     2      5   \n\n          year  snap_CA  snap_TX  snap_WI  ...  SuperBowl  Thanksgiving  \\\n0         2011        0        0        0  ...      False         False   \n1         2011        0        0        0  ...      False         False   \n2         2011        0        0        0  ...      False         False   \n3         2011        0        0        0  ...      False         False   \n4         2011        0        0        0  ...      False         False   \n...        ...      ...      ...      ...  ...        ...           ...   \n59181085  2016        0        0        0  ...      False         False   \n59181086  2016        0        0        0  ...      False         False   \n59181087  2016        0        0        0  ...      False         False   \n59181088  2016        0        0        0  ...      False         False   \n59181089  2016        0        0        0  ...      False         False   \n\n          ValentinesDay  VeteransDay  Cultural  National  Religious  Sporting  \\\n0                 False        False     False     False      False     False   \n1                 False        False     False     False      False     False   \n2                 False        False     False     False      False     False   \n3                 False        False     False     False      False     False   \n4                 False        False     False     False      False     False   \n...                 ...          ...       ...       ...        ...       ...   \n59181085          False        False     False     False      False     False   \n59181086          False        False     False     False      False     False   \n59181087          False        False     False     False      False     False   \n59181088          False        False     False     False      False     False   \n59181089          False        False     False     False      False     False   \n\n          sell_price  price_change  \n0                NaN           NaN  \n1                NaN           NaN  \n2                NaN           NaN  \n3                NaN           NaN  \n4                NaN           NaN  \n...              ...           ...  \n59181085        2.98           0.0  \n59181086        2.48           0.0  \n59181087        3.98           0.0  \n59181088        1.28           0.0  \n59181089        1.00           0.0  \n\n[59181090 rows x 46 columns]",
      "text/html": "<div>\n<style scoped>\n    .dataframe tbody tr th:only-of-type {\n        vertical-align: middle;\n    }\n\n    .dataframe tbody tr th {\n        vertical-align: top;\n    }\n\n    .dataframe thead th {\n        text-align: right;\n    }\n</style>\n<table border=\"1\" class=\"dataframe\">\n  <thead>\n    <tr style=\"text-align: right;\">\n      <th></th>\n      <th>id</th>\n      <th>day</th>\n      <th>sales</th>\n      <th>weekday</th>\n      <th>wday</th>\n      <th>month</th>\n      <th>year</th>\n      <th>snap_CA</th>\n      <th>snap_TX</th>\n      <th>snap_WI</th>\n      <th>...</th>\n      <th>SuperBowl</th>\n      <th>Thanksgiving</th>\n      <th>ValentinesDay</th>\n      <th>VeteransDay</th>\n      <th>Cultural</th>\n      <th>National</th>\n      <th>Religious</th>\n      <th>Sporting</th>\n      <th>sell_price</th>\n      <th>price_change</th>\n    </tr>\n  </thead>\n  <tbody>\n    <tr>\n      <th>0</th>\n      <td>HOBBIES_1_001_CA_1_evaluation</td>\n      <td>d_1</td>\n      <td>0</td>\n      <td>5</td>\n      <td>1</td>\n      <td>1</td>\n      <td>2011</td>\n      <td>0</td>\n      <td>0</td>\n      <td>0</td>\n      <td>...</td>\n      <td>False</td>\n      <td>False</td>\n      <td>False</td>\n      <td>False</td>\n      <td>False</td>\n      <td>False</td>\n      <td>False</td>\n      <td>False</td>\n      <td>NaN</td>\n      <td>NaN</td>\n    </tr>\n    <tr>\n      <th>1</th>\n      <td>HOBBIES_1_002_CA_1_evaluation</td>\n      <td>d_1</td>\n      <td>0</td>\n      <td>5</td>\n      <td>1</td>\n      <td>1</td>\n      <td>2011</td>\n      <td>0</td>\n      <td>0</td>\n      <td>0</td>\n      <td>...</td>\n      <td>False</td>\n      <td>False</td>\n      <td>False</td>\n      <td>False</td>\n      <td>False</td>\n      <td>False</td>\n      <td>False</td>\n      <td>False</td>\n      <td>NaN</td>\n      <td>NaN</td>\n    </tr>\n    <tr>\n      <th>2</th>\n      <td>HOBBIES_1_003_CA_1_evaluation</td>\n      <td>d_1</td>\n      <td>0</td>\n      <td>5</td>\n      <td>1</td>\n      <td>1</td>\n      <td>2011</td>\n      <td>0</td>\n      <td>0</td>\n      <td>0</td>\n      <td>...</td>\n      <td>False</td>\n      <td>False</td>\n      <td>False</td>\n      <td>False</td>\n      <td>False</td>\n      <td>False</td>\n      <td>False</td>\n      <td>False</td>\n      <td>NaN</td>\n      <td>NaN</td>\n    </tr>\n    <tr>\n      <th>3</th>\n      <td>HOBBIES_1_004_CA_1_evaluation</td>\n      <td>d_1</td>\n      <td>0</td>\n      <td>5</td>\n      <td>1</td>\n      <td>1</td>\n      <td>2011</td>\n      <td>0</td>\n      <td>0</td>\n      <td>0</td>\n      <td>...</td>\n      <td>False</td>\n      <td>False</td>\n      <td>False</td>\n      <td>False</td>\n      <td>False</td>\n      <td>False</td>\n      <td>False</td>\n      <td>False</td>\n      <td>NaN</td>\n      <td>NaN</td>\n    </tr>\n    <tr>\n      <th>4</th>\n      <td>HOBBIES_1_005_CA_1_evaluation</td>\n      <td>d_1</td>\n      <td>0</td>\n      <td>5</td>\n      <td>1</td>\n      <td>1</td>\n      <td>2011</td>\n      <td>0</td>\n      <td>0</td>\n      <td>0</td>\n      <td>...</td>\n      <td>False</td>\n      <td>False</td>\n      <td>False</td>\n      <td>False</td>\n      <td>False</td>\n      <td>False</td>\n      <td>False</td>\n      <td>False</td>\n      <td>NaN</td>\n      <td>NaN</td>\n    </tr>\n    <tr>\n      <th>...</th>\n      <td>...</td>\n      <td>...</td>\n      <td>...</td>\n      <td>...</td>\n      <td>...</td>\n      <td>...</td>\n      <td>...</td>\n      <td>...</td>\n      <td>...</td>\n      <td>...</td>\n      <td>...</td>\n      <td>...</td>\n      <td>...</td>\n      <td>...</td>\n      <td>...</td>\n      <td>...</td>\n      <td>...</td>\n      <td>...</td>\n      <td>...</td>\n      <td>...</td>\n      <td>...</td>\n    </tr>\n    <tr>\n      <th>59181085</th>\n      <td>FOODS_3_823_WI_3_evaluation</td>\n      <td>d_1941</td>\n      <td>1</td>\n      <td>6</td>\n      <td>2</td>\n      <td>5</td>\n      <td>2016</td>\n      <td>0</td>\n      <td>0</td>\n      <td>0</td>\n      <td>...</td>\n      <td>False</td>\n      <td>False</td>\n      <td>False</td>\n      <td>False</td>\n      <td>False</td>\n      <td>False</td>\n      <td>False</td>\n      <td>False</td>\n      <td>2.98</td>\n      <td>0.0</td>\n    </tr>\n    <tr>\n      <th>59181086</th>\n      <td>FOODS_3_824_WI_3_evaluation</td>\n      <td>d_1941</td>\n      <td>0</td>\n      <td>6</td>\n      <td>2</td>\n      <td>5</td>\n      <td>2016</td>\n      <td>0</td>\n      <td>0</td>\n      <td>0</td>\n      <td>...</td>\n      <td>False</td>\n      <td>False</td>\n      <td>False</td>\n      <td>False</td>\n      <td>False</td>\n      <td>False</td>\n      <td>False</td>\n      <td>False</td>\n      <td>2.48</td>\n      <td>0.0</td>\n    </tr>\n    <tr>\n      <th>59181087</th>\n      <td>FOODS_3_825_WI_3_evaluation</td>\n      <td>d_1941</td>\n      <td>2</td>\n      <td>6</td>\n      <td>2</td>\n      <td>5</td>\n      <td>2016</td>\n      <td>0</td>\n      <td>0</td>\n      <td>0</td>\n      <td>...</td>\n      <td>False</td>\n      <td>False</td>\n      <td>False</td>\n      <td>False</td>\n      <td>False</td>\n      <td>False</td>\n      <td>False</td>\n      <td>False</td>\n      <td>3.98</td>\n      <td>0.0</td>\n    </tr>\n    <tr>\n      <th>59181088</th>\n      <td>FOODS_3_826_WI_3_evaluation</td>\n      <td>d_1941</td>\n      <td>0</td>\n      <td>6</td>\n      <td>2</td>\n      <td>5</td>\n      <td>2016</td>\n      <td>0</td>\n      <td>0</td>\n      <td>0</td>\n      <td>...</td>\n      <td>False</td>\n      <td>False</td>\n      <td>False</td>\n      <td>False</td>\n      <td>False</td>\n      <td>False</td>\n      <td>False</td>\n      <td>False</td>\n      <td>1.28</td>\n      <td>0.0</td>\n    </tr>\n    <tr>\n      <th>59181089</th>\n      <td>FOODS_3_827_WI_3_evaluation</td>\n      <td>d_1941</td>\n      <td>1</td>\n      <td>6</td>\n      <td>2</td>\n      <td>5</td>\n      <td>2016</td>\n      <td>0</td>\n      <td>0</td>\n      <td>0</td>\n      <td>...</td>\n      <td>False</td>\n      <td>False</td>\n      <td>False</td>\n      <td>False</td>\n      <td>False</td>\n      <td>False</td>\n      <td>False</td>\n      <td>False</td>\n      <td>1.00</td>\n      <td>0.0</td>\n    </tr>\n  </tbody>\n</table>\n<p>59181090 rows × 46 columns</p>\n</div>"
     },
     "execution_count": 13,
     "metadata": {},
     "output_type": "execute_result"
    }
   ],
   "source": [
    "sales_cal_price = sales_cal.merge(prices, how='left', on=['store_id', 'item_id', 'wm_yr_wk']).drop(['item_id', 'dept_id', 'cat_id', 'store_id', 'state_id', 'date', 'wm_yr_wk'], axis=1)\n",
    "sales_cal_price"
   ],
   "metadata": {
    "collapsed": false
   }
  },
  {
   "cell_type": "markdown",
   "source": [
    "## Saving the data\n",
    "\n",
    "Only worked with 1M data points for now since it quickly overwhelmed my pc"
   ],
   "metadata": {
    "collapsed": false
   }
  },
  {
   "cell_type": "code",
   "execution_count": 14,
   "outputs": [],
   "source": [
    "sales_cal_price[:1000000].to_csv('./data/processed/sales.csv')\n",
    "static_vars.to_csv('./data/processed/static_vars.csv')"
   ],
   "metadata": {
    "collapsed": false
   }
  },
  {
   "cell_type": "markdown",
   "source": [
    "# Sampling test days\n",
    "\n",
    "With this I can sample days that did have/didn't have price changes. Still need to figure out where to integrate this in the model code"
   ],
   "metadata": {
    "collapsed": false
   }
  },
  {
   "cell_type": "code",
   "execution_count": null,
   "outputs": [],
   "source": [
    "test_price_change = sales_cal_price[sales_cal_price.price_change == 1].sample(10000, random_state=42)\n",
    "test_price_change"
   ],
   "metadata": {
    "collapsed": false,
    "pycharm": {
     "is_executing": true
    }
   }
  },
  {
   "cell_type": "code",
   "execution_count": null,
   "outputs": [],
   "source": [
    "test_no_price_change = sales_cal_price[sales_cal_price.price_change == 0].sample(10000, random_state=42)\n",
    "test_no_price_change"
   ],
   "metadata": {
    "collapsed": false,
    "pycharm": {
     "is_executing": true
    }
   }
  },
  {
   "cell_type": "markdown",
   "source": [
    "# Run the model\n",
    "\n",
    "I tried running it without sweeping but I get really weird errors which I seemingly can't fix so leaving it as is for now"
   ],
   "metadata": {
    "collapsed": false
   }
  },
  {
   "cell_type": "code",
   "execution_count": null,
   "outputs": [],
   "source": [
    "!set PYTHONPATH=. && set CUDA_VISIBLE_DEVICES=0 && python runnables/train_multi.py -m +dataset=m5 +backbone=ct +backbone/ct_hparams/cancer_sim_domain_conf='0' exp.seed=10"
   ],
   "metadata": {
    "collapsed": false,
    "pycharm": {
     "is_executing": true
    }
   }
  },
  {
   "cell_type": "code",
   "execution_count": null,
   "outputs": [],
   "source": [],
   "metadata": {
    "collapsed": false
   }
  }
 ],
 "metadata": {
  "kernelspec": {
   "display_name": "Python 3",
   "language": "python",
   "name": "python3"
  },
  "language_info": {
   "codemirror_mode": {
    "name": "ipython",
    "version": 2
   },
   "file_extension": ".py",
   "mimetype": "text/x-python",
   "name": "python",
   "nbconvert_exporter": "python",
   "pygments_lexer": "ipython2",
   "version": "2.7.6"
  }
 },
 "nbformat": 4,
 "nbformat_minor": 0
}
